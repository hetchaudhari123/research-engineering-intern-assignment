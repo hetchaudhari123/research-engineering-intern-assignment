{
 "cells": [
  {
   "cell_type": "markdown",
   "metadata": {},
   "source": [
    "# Checking quality of the dataset"
   ]
  },
  {
   "cell_type": "code",
   "execution_count": null,
   "metadata": {},
   "outputs": [
    {
     "name": "stdout",
     "output_type": "stream",
     "text": [
      "<class 'pandas.core.frame.DataFrame'>\n",
      "RangeIndex: 8799 entries, 0 to 8798\n",
      "Columns: 114 entries, approved_at_utc to link_flair_template_id\n",
      "dtypes: bool(28), float64(7), int64(8), object(71)\n",
      "memory usage: 6.0+ MB\n",
      "None\n",
      "  approved_at_utc  subreddit  \\\n",
      "0            None  Anarchism   \n",
      "1            None  Anarchism   \n",
      "2            None  Anarchism   \n",
      "3            None  Anarchism   \n",
      "4            None  Anarchism   \n",
      "\n",
      "                                            selftext author_fullname  saved  \\\n",
      "0   What you are reading, watching, or listening ...        t2_6l4z3  False   \n",
      "1                                                        t2_4vt6saq5  False   \n",
      "2  I am an anarcho-nihilist and i am reading simi...   t2_1h2y206upy  False   \n",
      "3  Ayo, im an anarchist but perhaps not the most ...     t2_83t23peb  False   \n",
      "4  Looking for videos/podcasts/writing where folk...        t2_9haan  False   \n",
      "\n",
      "  mod_reason_title  gilded  clicked  \\\n",
      "0             None       0    False   \n",
      "1             None       0    False   \n",
      "2             None       0    False   \n",
      "3             None       0    False   \n",
      "4             None       0    False   \n",
      "\n",
      "                                               title link_flair_richtext  ...  \\\n",
      "0             What Are You Reading/Book Club Tuesday                  []  ...   \n",
      "1    \"WTF is Social Ecology?\" by Usufruct Collective                  []  ...   \n",
      "2  Who do you think is the most powerful/popular ...                  []  ...   \n",
      "3                  Not paying student loans or taxes                  []  ...   \n",
      "4    Recommendations for intellectual debate content                  []  ...   \n",
      "\n",
      "  post_hint                              crosspost_parent_list  \\\n",
      "0       NaN                                                NaN   \n",
      "1      link  [{'approved_at_utc': None, 'subreddit': 'Commu...   \n",
      "2       NaN                                                NaN   \n",
      "3       NaN                                                NaN   \n",
      "4       NaN                                                NaN   \n",
      "\n",
      "                              url_overridden_by_dest  \\\n",
      "0                                                NaN   \n",
      "1  https://usufructcollective.wordpress.com/2025/...   \n",
      "2                                                NaN   \n",
      "3                                                NaN   \n",
      "4                                                NaN   \n",
      "\n",
      "                                             preview  crosspost_parent  \\\n",
      "0                                                NaN               NaN   \n",
      "1  {'images': [{'source': {'url': 'https://extern...        t3_1irrbvc   \n",
      "2                                                NaN               NaN   \n",
      "3                                                NaN               NaN   \n",
      "4                                                NaN               NaN   \n",
      "\n",
      "   is_gallery media_metadata  gallery_data author_cakeday  \\\n",
      "0         NaN            NaN           NaN            NaN   \n",
      "1         NaN            NaN           NaN            NaN   \n",
      "2         NaN            NaN           NaN            NaN   \n",
      "3         NaN            NaN           NaN            NaN   \n",
      "4         NaN            NaN           NaN            NaN   \n",
      "\n",
      "   link_flair_template_id  \n",
      "0                     NaN  \n",
      "1                     NaN  \n",
      "2                     NaN  \n",
      "3                     NaN  \n",
      "4                     NaN  \n",
      "\n",
      "[5 rows x 114 columns]\n"
     ]
    }
   ],
   "source": [
    "import json\n",
    "import pandas as pd\n",
    "\n",
    "# Load dataset from JSONL file\n",
    "data = []\n",
    "with open(\"data.jsonl\", \"r\") as file:\n",
    "    for line in file:\n",
    "        data.append(json.loads(line))  # Load each JSON object separately\n",
    "\n",
    "# Convert to DataFrame\n",
    "df = pd.DataFrame([item[\"data\"] for item in data])\n",
    "\n",
    "# Display general information\n",
    "print(df.info())\n",
    "\n",
    "# Show the first few rows\n",
    "print(df.head())\n"
   ]
  },
  {
   "cell_type": "markdown",
   "metadata": {},
   "source": [
    "# Checks the percentage of the missing values"
   ]
  },
  {
   "cell_type": "code",
   "execution_count": 1,
   "metadata": {},
   "outputs": [
    {
     "ename": "NameError",
     "evalue": "name 'df' is not defined",
     "output_type": "error",
     "traceback": [
      "\u001b[1;31m---------------------------------------------------------------------------\u001b[0m",
      "\u001b[1;31mNameError\u001b[0m                                 Traceback (most recent call last)",
      "Cell \u001b[1;32mIn[1], line 1\u001b[0m\n\u001b[1;32m----> 1\u001b[0m \u001b[43mdf\u001b[49m\u001b[38;5;241m.\u001b[39minfo()\n",
      "\u001b[1;31mNameError\u001b[0m: name 'df' is not defined"
     ]
    }
   ],
   "source": [
    "df.info()"
   ]
  },
  {
   "cell_type": "code",
   "execution_count": null,
   "metadata": {},
   "outputs": [
    {
     "name": "stdout",
     "output_type": "stream",
     "text": [
      "approved_at_utc        8799\n",
      "mod_reason_by          8799\n",
      "content_categories     8799\n",
      "mod_note               8799\n",
      "banned_by              8799\n",
      "likes                  8799\n",
      "banned_at_utc          8799\n",
      "view_count             8799\n",
      "removed_by             8799\n",
      "num_reports            8799\n",
      "approved_by            8799\n",
      "top_awarded_type       8799\n",
      "category               8799\n",
      "report_reasons         8799\n",
      "discussion_type        8799\n",
      "mod_reason_title       8799\n",
      "removed_by_category    8798\n",
      "removal_reason         8798\n",
      "distinguished          8776\n",
      "author_cakeday         8774\n",
      "dtype: int64\n"
     ]
    }
   ],
   "source": [
    "print(df.isnull().sum().sort_values(ascending=False).head(20))\n"
   ]
  },
  {
   "cell_type": "markdown",
   "metadata": {},
   "source": [
    "# Drops those with 100% missing values"
   ]
  },
  {
   "cell_type": "code",
   "execution_count": null,
   "metadata": {},
   "outputs": [],
   "source": [
    "df = df.drop(columns=[\n",
    "    'approved_at_utc', 'mod_reason_by', 'content_categories', 'mod_note', 'banned_by',\n",
    "    'likes', 'banned_at_utc', 'view_count', 'removed_by', 'num_reports', 'approved_by',\n",
    "    'top_awarded_type', 'category', 'report_reasons', 'discussion_type', 'mod_reason_title'\n",
    "])\n"
   ]
  },
  {
   "cell_type": "markdown",
   "metadata": {},
   "source": [
    "# Dropping those with 99% of missing values"
   ]
  },
  {
   "cell_type": "code",
   "execution_count": null,
   "metadata": {},
   "outputs": [],
   "source": [
    "df = df.drop(columns=['removed_by_category', 'removal_reason', 'distinguished', 'author_cakeday'])\n"
   ]
  },
  {
   "cell_type": "markdown",
   "metadata": {},
   "source": [
    "# Dropping other"
   ]
  },
  {
   "cell_type": "code",
   "execution_count": null,
   "metadata": {},
   "outputs": [],
   "source": [
    "df = df.drop(columns=[\n",
    "    'gallery_data', 'is_gallery', 'media_metadata', 'crosspost_parent', 'crosspost_parent_list',\n",
    "    'secure_media', 'media', 'author_flair_css_class', 'author_flair_background_color',\n",
    "    'suggested_sort', 'author_flair_template_id', 'author_flair_text', 'author_flair_text_color',\n",
    "    'selftext_html', 'link_flair_css_class', 'link_flair_template_id'\n",
    "])\n"
   ]
  },
  {
   "cell_type": "markdown",
   "metadata": {},
   "source": [
    "# Only keeping what is required"
   ]
  },
  {
   "cell_type": "code",
   "execution_count": null,
   "metadata": {},
   "outputs": [],
   "source": [
    "columns_to_keep = [\n",
    "    \"link_flair_text\", \"thumbnail_width\", \"thumbnail_height\",\n",
    "    \"post_hint\", \"url_overridden_by_dest\", \n",
    "    \"over_18\",\n",
    "    \"author_premium\", \"author_fullname\"\n",
    "]\n",
    "\n",
    "# Drop all other columns\n",
    "df = df[columns_to_keep]"
   ]
  },
  {
   "cell_type": "code",
   "execution_count": null,
   "metadata": {},
   "outputs": [
    {
     "name": "stdout",
     "output_type": "stream",
     "text": [
      "link_flair_text           2936\n",
      "thumbnail_width           2632\n",
      "thumbnail_height          2632\n",
      "post_hint                 2560\n",
      "url_overridden_by_dest    2059\n",
      "author_premium             120\n",
      "author_fullname            120\n",
      "over_18                      0\n",
      "dtype: int64\n"
     ]
    }
   ],
   "source": [
    "print(df.isnull().sum().sort_values(ascending=False).head(20))\n"
   ]
  },
  {
   "cell_type": "code",
   "execution_count": null,
   "metadata": {},
   "outputs": [
    {
     "name": "stdout",
     "output_type": "stream",
     "text": [
      "link_flair_text           2936\n",
      "thumbnail_width           2632\n",
      "thumbnail_height          2632\n",
      "post_hint                 2560\n",
      "url_overridden_by_dest    2059\n",
      "author_premium             120\n",
      "author_fullname            120\n",
      "over_18                      0\n",
      "dtype: int64\n"
     ]
    }
   ],
   "source": [
    "print(df.isnull().sum().sort_values(ascending=False).head(20))\n"
   ]
  },
  {
   "cell_type": "markdown",
   "metadata": {},
   "source": [
    "# Preprocessing\n",
    "\n",
    "- Filled **Unknown** for `link_flair_text`.  \n",
    "- Filled with **Median values** in `thumbnail_width`, `thumbnail_height`.  \n",
    "- Filled post_hint: If `media_only == True`, it's likely **\"image\"**, **\"video\"**, or **\"gallery\"** content.  \n",
    "If `url_overridden_by_dest` is **NOT null**, it's likely a **\"link\"** post.  \n",
    "Otherwise, assume **\"text\"** or **\"selfpost\"**.  \n",
    "- `url_overridden_by_dest` is **not changed** because not having a URL just means that it doesn't refer to some other link.  \n",
    "- `author_full_name` && `author_premium` All those rows with null values are dropped(since they are very less).\n"
   ]
  },
  {
   "cell_type": "code",
   "execution_count": null,
   "metadata": {},
   "outputs": [
    {
     "name": "stderr",
     "output_type": "stream",
     "text": [
      "C:\\Users\\HET CHAUDHARI\\AppData\\Local\\Temp\\ipykernel_3812\\786875962.py:1: FutureWarning: A value is trying to be set on a copy of a DataFrame or Series through chained assignment using an inplace method.\n",
      "The behavior will change in pandas 3.0. This inplace method will never work because the intermediate object on which we are setting values always behaves as a copy.\n",
      "\n",
      "For example, when doing 'df[col].method(value, inplace=True)', try using 'df.method({col: value}, inplace=True)' or df[col] = df[col].method(value) instead, to perform the operation inplace on the original object.\n",
      "\n",
      "\n",
      "  df['link_flair_text'].fillna('Unknown', inplace=True)\n",
      "C:\\Users\\HET CHAUDHARI\\AppData\\Local\\Temp\\ipykernel_3812\\786875962.py:2: FutureWarning: A value is trying to be set on a copy of a DataFrame or Series through chained assignment using an inplace method.\n",
      "The behavior will change in pandas 3.0. This inplace method will never work because the intermediate object on which we are setting values always behaves as a copy.\n",
      "\n",
      "For example, when doing 'df[col].method(value, inplace=True)', try using 'df.method({col: value}, inplace=True)' or df[col] = df[col].method(value) instead, to perform the operation inplace on the original object.\n",
      "\n",
      "\n",
      "  df['thumbnail_width'].fillna(df['thumbnail_width'].median(), inplace=True)\n",
      "C:\\Users\\HET CHAUDHARI\\AppData\\Local\\Temp\\ipykernel_3812\\786875962.py:3: FutureWarning: A value is trying to be set on a copy of a DataFrame or Series through chained assignment using an inplace method.\n",
      "The behavior will change in pandas 3.0. This inplace method will never work because the intermediate object on which we are setting values always behaves as a copy.\n",
      "\n",
      "For example, when doing 'df[col].method(value, inplace=True)', try using 'df.method({col: value}, inplace=True)' or df[col] = df[col].method(value) instead, to perform the operation inplace on the original object.\n",
      "\n",
      "\n",
      "  df['thumbnail_height'].fillna(df['thumbnail_height'].median(), inplace=True)\n"
     ]
    },
    {
     "ename": "KeyError",
     "evalue": "'media_only'",
     "output_type": "error",
     "traceback": [
      "\u001b[1;31m---------------------------------------------------------------------------\u001b[0m",
      "\u001b[1;31mKeyError\u001b[0m                                  Traceback (most recent call last)",
      "File \u001b[1;32mc:\\Users\\HET CHAUDHARI\\AppData\\Local\\Programs\\Python\\Python311\\Lib\\site-packages\\pandas\\core\\indexes\\base.py:3805\u001b[0m, in \u001b[0;36mIndex.get_loc\u001b[1;34m(self, key)\u001b[0m\n\u001b[0;32m   3804\u001b[0m \u001b[38;5;28;01mtry\u001b[39;00m:\n\u001b[1;32m-> 3805\u001b[0m     \u001b[38;5;28;01mreturn\u001b[39;00m \u001b[38;5;28;43mself\u001b[39;49m\u001b[38;5;241;43m.\u001b[39;49m\u001b[43m_engine\u001b[49m\u001b[38;5;241;43m.\u001b[39;49m\u001b[43mget_loc\u001b[49m\u001b[43m(\u001b[49m\u001b[43mcasted_key\u001b[49m\u001b[43m)\u001b[49m\n\u001b[0;32m   3806\u001b[0m \u001b[38;5;28;01mexcept\u001b[39;00m \u001b[38;5;167;01mKeyError\u001b[39;00m \u001b[38;5;28;01mas\u001b[39;00m err:\n",
      "File \u001b[1;32mindex.pyx:167\u001b[0m, in \u001b[0;36mpandas._libs.index.IndexEngine.get_loc\u001b[1;34m()\u001b[0m\n",
      "File \u001b[1;32mindex.pyx:196\u001b[0m, in \u001b[0;36mpandas._libs.index.IndexEngine.get_loc\u001b[1;34m()\u001b[0m\n",
      "File \u001b[1;32mpandas\\\\_libs\\\\hashtable_class_helper.pxi:7081\u001b[0m, in \u001b[0;36mpandas._libs.hashtable.PyObjectHashTable.get_item\u001b[1;34m()\u001b[0m\n",
      "File \u001b[1;32mpandas\\\\_libs\\\\hashtable_class_helper.pxi:7089\u001b[0m, in \u001b[0;36mpandas._libs.hashtable.PyObjectHashTable.get_item\u001b[1;34m()\u001b[0m\n",
      "\u001b[1;31mKeyError\u001b[0m: 'media_only'",
      "\nThe above exception was the direct cause of the following exception:\n",
      "\u001b[1;31mKeyError\u001b[0m                                  Traceback (most recent call last)",
      "Cell \u001b[1;32mIn[131], line 4\u001b[0m\n\u001b[0;32m      2\u001b[0m df[\u001b[38;5;124m'\u001b[39m\u001b[38;5;124mthumbnail_width\u001b[39m\u001b[38;5;124m'\u001b[39m]\u001b[38;5;241m.\u001b[39mfillna(df[\u001b[38;5;124m'\u001b[39m\u001b[38;5;124mthumbnail_width\u001b[39m\u001b[38;5;124m'\u001b[39m]\u001b[38;5;241m.\u001b[39mmedian(), inplace\u001b[38;5;241m=\u001b[39m\u001b[38;5;28;01mTrue\u001b[39;00m)\n\u001b[0;32m      3\u001b[0m df[\u001b[38;5;124m'\u001b[39m\u001b[38;5;124mthumbnail_height\u001b[39m\u001b[38;5;124m'\u001b[39m]\u001b[38;5;241m.\u001b[39mfillna(df[\u001b[38;5;124m'\u001b[39m\u001b[38;5;124mthumbnail_height\u001b[39m\u001b[38;5;124m'\u001b[39m]\u001b[38;5;241m.\u001b[39mmedian(), inplace\u001b[38;5;241m=\u001b[39m\u001b[38;5;28;01mTrue\u001b[39;00m)\n\u001b[1;32m----> 4\u001b[0m df[\u001b[38;5;124m'\u001b[39m\u001b[38;5;124mpost_hint\u001b[39m\u001b[38;5;124m'\u001b[39m] \u001b[38;5;241m=\u001b[39m \u001b[43mdf\u001b[49m\u001b[38;5;241;43m.\u001b[39;49m\u001b[43mapply\u001b[49m\u001b[43m(\u001b[49m\u001b[38;5;28;43;01mlambda\u001b[39;49;00m\u001b[43m \u001b[49m\u001b[43mrow\u001b[49m\u001b[43m:\u001b[49m\u001b[43m \u001b[49m\n\u001b[0;32m      5\u001b[0m \u001b[43m    \u001b[49m\u001b[38;5;124;43m'\u001b[39;49m\u001b[38;5;124;43mimage\u001b[39;49m\u001b[38;5;124;43m'\u001b[39;49m\u001b[43m \u001b[49m\u001b[38;5;28;43;01mif\u001b[39;49;00m\u001b[43m \u001b[49m\u001b[43mrow\u001b[49m\u001b[43m[\u001b[49m\u001b[38;5;124;43m'\u001b[39;49m\u001b[38;5;124;43mmedia_only\u001b[39;49m\u001b[38;5;124;43m'\u001b[39;49m\u001b[43m]\u001b[49m\u001b[43m \u001b[49m\u001b[38;5;241;43m==\u001b[39;49m\u001b[43m \u001b[49m\u001b[38;5;28;43;01mTrue\u001b[39;49;00m\u001b[43m \u001b[49m\u001b[38;5;28;43;01melse\u001b[39;49;00m\u001b[43m \u001b[49m\n\u001b[0;32m      6\u001b[0m \u001b[43m    \u001b[49m\u001b[38;5;124;43m'\u001b[39;49m\u001b[38;5;124;43mlink\u001b[39;49m\u001b[38;5;124;43m'\u001b[39;49m\u001b[43m \u001b[49m\u001b[38;5;28;43;01mif\u001b[39;49;00m\u001b[43m \u001b[49m\u001b[43mpd\u001b[49m\u001b[38;5;241;43m.\u001b[39;49m\u001b[43mnotna\u001b[49m\u001b[43m(\u001b[49m\u001b[43mrow\u001b[49m\u001b[43m[\u001b[49m\u001b[38;5;124;43m'\u001b[39;49m\u001b[38;5;124;43murl_overridden_by_dest\u001b[39;49m\u001b[38;5;124;43m'\u001b[39;49m\u001b[43m]\u001b[49m\u001b[43m)\u001b[49m\u001b[43m \u001b[49m\u001b[38;5;28;43;01melse\u001b[39;49;00m\u001b[43m \u001b[49m\n\u001b[0;32m      7\u001b[0m \u001b[43m    \u001b[49m\u001b[38;5;124;43m'\u001b[39;49m\u001b[38;5;124;43munknown\u001b[39;49m\u001b[38;5;124;43m'\u001b[39;49m\u001b[43m,\u001b[49m\u001b[43m \u001b[49m\u001b[43maxis\u001b[49m\u001b[38;5;241;43m=\u001b[39;49m\u001b[38;5;241;43m1\u001b[39;49m\u001b[43m)\u001b[49m\n\u001b[0;32m      8\u001b[0m df \u001b[38;5;241m=\u001b[39m df\u001b[38;5;241m.\u001b[39mdropna(subset\u001b[38;5;241m=\u001b[39m[\u001b[38;5;124m'\u001b[39m\u001b[38;5;124mauthor_premium\u001b[39m\u001b[38;5;124m'\u001b[39m, \u001b[38;5;124m'\u001b[39m\u001b[38;5;124mauthor_fullname\u001b[39m\u001b[38;5;124m'\u001b[39m,\u001b[38;5;124m'\u001b[39m\u001b[38;5;124mmedia_only\u001b[39m\u001b[38;5;124m'\u001b[39m])\n",
      "File \u001b[1;32mc:\\Users\\HET CHAUDHARI\\AppData\\Local\\Programs\\Python\\Python311\\Lib\\site-packages\\pandas\\core\\frame.py:10374\u001b[0m, in \u001b[0;36mDataFrame.apply\u001b[1;34m(self, func, axis, raw, result_type, args, by_row, engine, engine_kwargs, **kwargs)\u001b[0m\n\u001b[0;32m  10360\u001b[0m \u001b[38;5;28;01mfrom\u001b[39;00m\u001b[38;5;250m \u001b[39m\u001b[38;5;21;01mpandas\u001b[39;00m\u001b[38;5;21;01m.\u001b[39;00m\u001b[38;5;21;01mcore\u001b[39;00m\u001b[38;5;21;01m.\u001b[39;00m\u001b[38;5;21;01mapply\u001b[39;00m\u001b[38;5;250m \u001b[39m\u001b[38;5;28;01mimport\u001b[39;00m frame_apply\n\u001b[0;32m  10362\u001b[0m op \u001b[38;5;241m=\u001b[39m frame_apply(\n\u001b[0;32m  10363\u001b[0m     \u001b[38;5;28mself\u001b[39m,\n\u001b[0;32m  10364\u001b[0m     func\u001b[38;5;241m=\u001b[39mfunc,\n\u001b[1;32m   (...)\u001b[0m\n\u001b[0;32m  10372\u001b[0m     kwargs\u001b[38;5;241m=\u001b[39mkwargs,\n\u001b[0;32m  10373\u001b[0m )\n\u001b[1;32m> 10374\u001b[0m \u001b[38;5;28;01mreturn\u001b[39;00m \u001b[43mop\u001b[49m\u001b[38;5;241;43m.\u001b[39;49m\u001b[43mapply\u001b[49m\u001b[43m(\u001b[49m\u001b[43m)\u001b[49m\u001b[38;5;241m.\u001b[39m__finalize__(\u001b[38;5;28mself\u001b[39m, method\u001b[38;5;241m=\u001b[39m\u001b[38;5;124m\"\u001b[39m\u001b[38;5;124mapply\u001b[39m\u001b[38;5;124m\"\u001b[39m)\n",
      "File \u001b[1;32mc:\\Users\\HET CHAUDHARI\\AppData\\Local\\Programs\\Python\\Python311\\Lib\\site-packages\\pandas\\core\\apply.py:916\u001b[0m, in \u001b[0;36mFrameApply.apply\u001b[1;34m(self)\u001b[0m\n\u001b[0;32m    913\u001b[0m \u001b[38;5;28;01melif\u001b[39;00m \u001b[38;5;28mself\u001b[39m\u001b[38;5;241m.\u001b[39mraw:\n\u001b[0;32m    914\u001b[0m     \u001b[38;5;28;01mreturn\u001b[39;00m \u001b[38;5;28mself\u001b[39m\u001b[38;5;241m.\u001b[39mapply_raw(engine\u001b[38;5;241m=\u001b[39m\u001b[38;5;28mself\u001b[39m\u001b[38;5;241m.\u001b[39mengine, engine_kwargs\u001b[38;5;241m=\u001b[39m\u001b[38;5;28mself\u001b[39m\u001b[38;5;241m.\u001b[39mengine_kwargs)\n\u001b[1;32m--> 916\u001b[0m \u001b[38;5;28;01mreturn\u001b[39;00m \u001b[38;5;28;43mself\u001b[39;49m\u001b[38;5;241;43m.\u001b[39;49m\u001b[43mapply_standard\u001b[49m\u001b[43m(\u001b[49m\u001b[43m)\u001b[49m\n",
      "File \u001b[1;32mc:\\Users\\HET CHAUDHARI\\AppData\\Local\\Programs\\Python\\Python311\\Lib\\site-packages\\pandas\\core\\apply.py:1063\u001b[0m, in \u001b[0;36mFrameApply.apply_standard\u001b[1;34m(self)\u001b[0m\n\u001b[0;32m   1061\u001b[0m \u001b[38;5;28;01mdef\u001b[39;00m\u001b[38;5;250m \u001b[39m\u001b[38;5;21mapply_standard\u001b[39m(\u001b[38;5;28mself\u001b[39m):\n\u001b[0;32m   1062\u001b[0m     \u001b[38;5;28;01mif\u001b[39;00m \u001b[38;5;28mself\u001b[39m\u001b[38;5;241m.\u001b[39mengine \u001b[38;5;241m==\u001b[39m \u001b[38;5;124m\"\u001b[39m\u001b[38;5;124mpython\u001b[39m\u001b[38;5;124m\"\u001b[39m:\n\u001b[1;32m-> 1063\u001b[0m         results, res_index \u001b[38;5;241m=\u001b[39m \u001b[38;5;28;43mself\u001b[39;49m\u001b[38;5;241;43m.\u001b[39;49m\u001b[43mapply_series_generator\u001b[49m\u001b[43m(\u001b[49m\u001b[43m)\u001b[49m\n\u001b[0;32m   1064\u001b[0m     \u001b[38;5;28;01melse\u001b[39;00m:\n\u001b[0;32m   1065\u001b[0m         results, res_index \u001b[38;5;241m=\u001b[39m \u001b[38;5;28mself\u001b[39m\u001b[38;5;241m.\u001b[39mapply_series_numba()\n",
      "File \u001b[1;32mc:\\Users\\HET CHAUDHARI\\AppData\\Local\\Programs\\Python\\Python311\\Lib\\site-packages\\pandas\\core\\apply.py:1081\u001b[0m, in \u001b[0;36mFrameApply.apply_series_generator\u001b[1;34m(self)\u001b[0m\n\u001b[0;32m   1078\u001b[0m \u001b[38;5;28;01mwith\u001b[39;00m option_context(\u001b[38;5;124m\"\u001b[39m\u001b[38;5;124mmode.chained_assignment\u001b[39m\u001b[38;5;124m\"\u001b[39m, \u001b[38;5;28;01mNone\u001b[39;00m):\n\u001b[0;32m   1079\u001b[0m     \u001b[38;5;28;01mfor\u001b[39;00m i, v \u001b[38;5;129;01min\u001b[39;00m \u001b[38;5;28menumerate\u001b[39m(series_gen):\n\u001b[0;32m   1080\u001b[0m         \u001b[38;5;66;03m# ignore SettingWithCopy here in case the user mutates\u001b[39;00m\n\u001b[1;32m-> 1081\u001b[0m         results[i] \u001b[38;5;241m=\u001b[39m \u001b[38;5;28;43mself\u001b[39;49m\u001b[38;5;241;43m.\u001b[39;49m\u001b[43mfunc\u001b[49m\u001b[43m(\u001b[49m\u001b[43mv\u001b[49m\u001b[43m,\u001b[49m\u001b[43m \u001b[49m\u001b[38;5;241;43m*\u001b[39;49m\u001b[38;5;28;43mself\u001b[39;49m\u001b[38;5;241;43m.\u001b[39;49m\u001b[43margs\u001b[49m\u001b[43m,\u001b[49m\u001b[43m \u001b[49m\u001b[38;5;241;43m*\u001b[39;49m\u001b[38;5;241;43m*\u001b[39;49m\u001b[38;5;28;43mself\u001b[39;49m\u001b[38;5;241;43m.\u001b[39;49m\u001b[43mkwargs\u001b[49m\u001b[43m)\u001b[49m\n\u001b[0;32m   1082\u001b[0m         \u001b[38;5;28;01mif\u001b[39;00m \u001b[38;5;28misinstance\u001b[39m(results[i], ABCSeries):\n\u001b[0;32m   1083\u001b[0m             \u001b[38;5;66;03m# If we have a view on v, we need to make a copy because\u001b[39;00m\n\u001b[0;32m   1084\u001b[0m             \u001b[38;5;66;03m#  series_generator will swap out the underlying data\u001b[39;00m\n\u001b[0;32m   1085\u001b[0m             results[i] \u001b[38;5;241m=\u001b[39m results[i]\u001b[38;5;241m.\u001b[39mcopy(deep\u001b[38;5;241m=\u001b[39m\u001b[38;5;28;01mFalse\u001b[39;00m)\n",
      "Cell \u001b[1;32mIn[131], line 5\u001b[0m, in \u001b[0;36m<lambda>\u001b[1;34m(row)\u001b[0m\n\u001b[0;32m      2\u001b[0m df[\u001b[38;5;124m'\u001b[39m\u001b[38;5;124mthumbnail_width\u001b[39m\u001b[38;5;124m'\u001b[39m]\u001b[38;5;241m.\u001b[39mfillna(df[\u001b[38;5;124m'\u001b[39m\u001b[38;5;124mthumbnail_width\u001b[39m\u001b[38;5;124m'\u001b[39m]\u001b[38;5;241m.\u001b[39mmedian(), inplace\u001b[38;5;241m=\u001b[39m\u001b[38;5;28;01mTrue\u001b[39;00m)\n\u001b[0;32m      3\u001b[0m df[\u001b[38;5;124m'\u001b[39m\u001b[38;5;124mthumbnail_height\u001b[39m\u001b[38;5;124m'\u001b[39m]\u001b[38;5;241m.\u001b[39mfillna(df[\u001b[38;5;124m'\u001b[39m\u001b[38;5;124mthumbnail_height\u001b[39m\u001b[38;5;124m'\u001b[39m]\u001b[38;5;241m.\u001b[39mmedian(), inplace\u001b[38;5;241m=\u001b[39m\u001b[38;5;28;01mTrue\u001b[39;00m)\n\u001b[0;32m      4\u001b[0m df[\u001b[38;5;124m'\u001b[39m\u001b[38;5;124mpost_hint\u001b[39m\u001b[38;5;124m'\u001b[39m] \u001b[38;5;241m=\u001b[39m df\u001b[38;5;241m.\u001b[39mapply(\u001b[38;5;28;01mlambda\u001b[39;00m row: \n\u001b[1;32m----> 5\u001b[0m     \u001b[38;5;124m'\u001b[39m\u001b[38;5;124mimage\u001b[39m\u001b[38;5;124m'\u001b[39m \u001b[38;5;28;01mif\u001b[39;00m \u001b[43mrow\u001b[49m\u001b[43m[\u001b[49m\u001b[38;5;124;43m'\u001b[39;49m\u001b[38;5;124;43mmedia_only\u001b[39;49m\u001b[38;5;124;43m'\u001b[39;49m\u001b[43m]\u001b[49m \u001b[38;5;241m==\u001b[39m \u001b[38;5;28;01mTrue\u001b[39;00m \u001b[38;5;28;01melse\u001b[39;00m \n\u001b[0;32m      6\u001b[0m     \u001b[38;5;124m'\u001b[39m\u001b[38;5;124mlink\u001b[39m\u001b[38;5;124m'\u001b[39m \u001b[38;5;28;01mif\u001b[39;00m pd\u001b[38;5;241m.\u001b[39mnotna(row[\u001b[38;5;124m'\u001b[39m\u001b[38;5;124murl_overridden_by_dest\u001b[39m\u001b[38;5;124m'\u001b[39m]) \u001b[38;5;28;01melse\u001b[39;00m \n\u001b[0;32m      7\u001b[0m     \u001b[38;5;124m'\u001b[39m\u001b[38;5;124munknown\u001b[39m\u001b[38;5;124m'\u001b[39m, axis\u001b[38;5;241m=\u001b[39m\u001b[38;5;241m1\u001b[39m)\n\u001b[0;32m      8\u001b[0m df \u001b[38;5;241m=\u001b[39m df\u001b[38;5;241m.\u001b[39mdropna(subset\u001b[38;5;241m=\u001b[39m[\u001b[38;5;124m'\u001b[39m\u001b[38;5;124mauthor_premium\u001b[39m\u001b[38;5;124m'\u001b[39m, \u001b[38;5;124m'\u001b[39m\u001b[38;5;124mauthor_fullname\u001b[39m\u001b[38;5;124m'\u001b[39m,\u001b[38;5;124m'\u001b[39m\u001b[38;5;124mmedia_only\u001b[39m\u001b[38;5;124m'\u001b[39m])\n",
      "File \u001b[1;32mc:\\Users\\HET CHAUDHARI\\AppData\\Local\\Programs\\Python\\Python311\\Lib\\site-packages\\pandas\\core\\series.py:1121\u001b[0m, in \u001b[0;36mSeries.__getitem__\u001b[1;34m(self, key)\u001b[0m\n\u001b[0;32m   1118\u001b[0m     \u001b[38;5;28;01mreturn\u001b[39;00m \u001b[38;5;28mself\u001b[39m\u001b[38;5;241m.\u001b[39m_values[key]\n\u001b[0;32m   1120\u001b[0m \u001b[38;5;28;01melif\u001b[39;00m key_is_scalar:\n\u001b[1;32m-> 1121\u001b[0m     \u001b[38;5;28;01mreturn\u001b[39;00m \u001b[38;5;28;43mself\u001b[39;49m\u001b[38;5;241;43m.\u001b[39;49m\u001b[43m_get_value\u001b[49m\u001b[43m(\u001b[49m\u001b[43mkey\u001b[49m\u001b[43m)\u001b[49m\n\u001b[0;32m   1123\u001b[0m \u001b[38;5;66;03m# Convert generator to list before going through hashable part\u001b[39;00m\n\u001b[0;32m   1124\u001b[0m \u001b[38;5;66;03m# (We will iterate through the generator there to check for slices)\u001b[39;00m\n\u001b[0;32m   1125\u001b[0m \u001b[38;5;28;01mif\u001b[39;00m is_iterator(key):\n",
      "File \u001b[1;32mc:\\Users\\HET CHAUDHARI\\AppData\\Local\\Programs\\Python\\Python311\\Lib\\site-packages\\pandas\\core\\series.py:1237\u001b[0m, in \u001b[0;36mSeries._get_value\u001b[1;34m(self, label, takeable)\u001b[0m\n\u001b[0;32m   1234\u001b[0m     \u001b[38;5;28;01mreturn\u001b[39;00m \u001b[38;5;28mself\u001b[39m\u001b[38;5;241m.\u001b[39m_values[label]\n\u001b[0;32m   1236\u001b[0m \u001b[38;5;66;03m# Similar to Index.get_value, but we do not fall back to positional\u001b[39;00m\n\u001b[1;32m-> 1237\u001b[0m loc \u001b[38;5;241m=\u001b[39m \u001b[38;5;28;43mself\u001b[39;49m\u001b[38;5;241;43m.\u001b[39;49m\u001b[43mindex\u001b[49m\u001b[38;5;241;43m.\u001b[39;49m\u001b[43mget_loc\u001b[49m\u001b[43m(\u001b[49m\u001b[43mlabel\u001b[49m\u001b[43m)\u001b[49m\n\u001b[0;32m   1239\u001b[0m \u001b[38;5;28;01mif\u001b[39;00m is_integer(loc):\n\u001b[0;32m   1240\u001b[0m     \u001b[38;5;28;01mreturn\u001b[39;00m \u001b[38;5;28mself\u001b[39m\u001b[38;5;241m.\u001b[39m_values[loc]\n",
      "File \u001b[1;32mc:\\Users\\HET CHAUDHARI\\AppData\\Local\\Programs\\Python\\Python311\\Lib\\site-packages\\pandas\\core\\indexes\\base.py:3812\u001b[0m, in \u001b[0;36mIndex.get_loc\u001b[1;34m(self, key)\u001b[0m\n\u001b[0;32m   3807\u001b[0m     \u001b[38;5;28;01mif\u001b[39;00m \u001b[38;5;28misinstance\u001b[39m(casted_key, \u001b[38;5;28mslice\u001b[39m) \u001b[38;5;129;01mor\u001b[39;00m (\n\u001b[0;32m   3808\u001b[0m         \u001b[38;5;28misinstance\u001b[39m(casted_key, abc\u001b[38;5;241m.\u001b[39mIterable)\n\u001b[0;32m   3809\u001b[0m         \u001b[38;5;129;01mand\u001b[39;00m \u001b[38;5;28many\u001b[39m(\u001b[38;5;28misinstance\u001b[39m(x, \u001b[38;5;28mslice\u001b[39m) \u001b[38;5;28;01mfor\u001b[39;00m x \u001b[38;5;129;01min\u001b[39;00m casted_key)\n\u001b[0;32m   3810\u001b[0m     ):\n\u001b[0;32m   3811\u001b[0m         \u001b[38;5;28;01mraise\u001b[39;00m InvalidIndexError(key)\n\u001b[1;32m-> 3812\u001b[0m     \u001b[38;5;28;01mraise\u001b[39;00m \u001b[38;5;167;01mKeyError\u001b[39;00m(key) \u001b[38;5;28;01mfrom\u001b[39;00m\u001b[38;5;250m \u001b[39m\u001b[38;5;21;01merr\u001b[39;00m\n\u001b[0;32m   3813\u001b[0m \u001b[38;5;28;01mexcept\u001b[39;00m \u001b[38;5;167;01mTypeError\u001b[39;00m:\n\u001b[0;32m   3814\u001b[0m     \u001b[38;5;66;03m# If we have a listlike key, _check_indexing_error will raise\u001b[39;00m\n\u001b[0;32m   3815\u001b[0m     \u001b[38;5;66;03m#  InvalidIndexError. Otherwise we fall through and re-raise\u001b[39;00m\n\u001b[0;32m   3816\u001b[0m     \u001b[38;5;66;03m#  the TypeError.\u001b[39;00m\n\u001b[0;32m   3817\u001b[0m     \u001b[38;5;28mself\u001b[39m\u001b[38;5;241m.\u001b[39m_check_indexing_error(key)\n",
      "\u001b[1;31mKeyError\u001b[0m: 'media_only'"
     ]
    }
   ],
   "source": [
    "df['link_flair_text'].fillna('Unknown', inplace=True)\n",
    "df['thumbnail_width'].fillna(df['thumbnail_width'].median(), inplace=True)\n",
    "df['thumbnail_height'].fillna(df['thumbnail_height'].median(), inplace=True)\n",
    "df['post_hint'] = df.apply(lambda row: \n",
    "    'image' if row['media_only'] == True else \n",
    "    'link' if pd.notna(row['url_overridden_by_dest']) else \n",
    "    'unknown', axis=1)\n",
    "df = df.dropna(subset=['author_premium', 'author_fullname','media_only'])\n",
    "\n",
    "\n"
   ]
  },
  {
   "cell_type": "code",
   "execution_count": null,
   "metadata": {},
   "outputs": [
    {
     "name": "stderr",
     "output_type": "stream",
     "text": [
      "C:\\Users\\HET CHAUDHARI\\AppData\\Local\\Temp\\ipykernel_3812\\2028756546.py:1: FutureWarning: DataFrame.applymap has been deprecated. Use DataFrame.map instead.\n",
      "  df = df.applymap(lambda x: str(x) if isinstance(x, list) else x)\n"
     ]
    }
   ],
   "source": [
    "df = df.applymap(lambda x: str(x) if isinstance(x, list) else x)\n",
    "df = df.drop_duplicates().reset_index(drop=True)\n"
   ]
  },
  {
   "cell_type": "code",
   "execution_count": null,
   "metadata": {},
   "outputs": [
    {
     "name": "stdout",
     "output_type": "stream",
     "text": [
      "url_overridden_by_dest    1522\n",
      "link_flair_text              0\n",
      "thumbnail_width              0\n",
      "thumbnail_height             0\n",
      "post_hint                    0\n",
      "over_18                      0\n",
      "author_premium               0\n",
      "author_fullname              0\n",
      "media_only                   0\n",
      "dtype: int64\n",
      "<class 'pandas.core.frame.DataFrame'>\n",
      "RangeIndex: 8205 entries, 0 to 8204\n",
      "Data columns (total 9 columns):\n",
      " #   Column                  Non-Null Count  Dtype  \n",
      "---  ------                  --------------  -----  \n",
      " 0   link_flair_text         8205 non-null   object \n",
      " 1   thumbnail_width         8205 non-null   float64\n",
      " 2   thumbnail_height        8205 non-null   float64\n",
      " 3   post_hint               8205 non-null   object \n",
      " 4   url_overridden_by_dest  6683 non-null   object \n",
      " 5   over_18                 8205 non-null   bool   \n",
      " 6   author_premium          8205 non-null   bool   \n",
      " 7   author_fullname         8205 non-null   object \n",
      " 8   media_only              8205 non-null   bool   \n",
      "dtypes: bool(3), float64(2), object(4)\n",
      "memory usage: 408.8+ KB\n"
     ]
    }
   ],
   "source": [
    "print(df.isnull().sum().sort_values(ascending=False).head(20))\n",
    "df.info()"
   ]
  },
  {
   "cell_type": "code",
   "execution_count": null,
   "metadata": {},
   "outputs": [],
   "source": [
    "df.to_csv(\"cleaned_reddit_data.csv\", index=False)\n"
   ]
  },
  {
   "cell_type": "markdown",
   "metadata": {},
   "source": [
    "# Feature description\n",
    "- post_hint: Shows whether the post contains media(link) or not(unknown)"
   ]
  },
  {
   "cell_type": "code",
   "execution_count": 3,
   "metadata": {},
   "outputs": [
    {
     "name": "stdout",
     "output_type": "stream",
     "text": [
      "136\n",
      "['Unknown' 'New User' 'PDF' 'Tonight Jan 31st 6:00 PM EST' 'Meta'\n",
      " 'Privacy: Instagram' 'Genocide' 'Lol' 'Flaired Users Only'\n",
      " 'Satire - Flaired Users Only' 'Open Discussion'\n",
      " 'Misleading Title - Flaired Users Only'\n",
      " ':snoo_feelsgoodman: Discussion :snoo_thoughtful:' ':snoo: Article'\n",
      " ':snoo_putback: Opinion' 'Low Karma' 'Covered by another article'\n",
      " '❌ Multiple user reports' 'US Politics' 'Political History'\n",
      " 'US Elections' 'Legal/Courts' 'International Politics' 'Political Theory'\n",
      " 'European Politics' 'Legislation' 'Non-US Politics' 'Discussion' 'News'\n",
      " 'Breaking News' 'Satire ' 'Fake News' 'Satire' ':snoo: Article '\n",
      " '🌐 World News' ':snoo_joy: Meme' '📷 Pic' '🗳️ Beat Trump'\n",
      " ':snoo_dealwithit: Join r/democrats' '📺 Video'\n",
      " ':snoo_feelsgoodman: Healthcare' 'FOOD DESERTS' '📸 Album'\n",
      " ':pride: LGBTQ+' 'No Paywall' '✅ Accomplishment'\n",
      " ':snoo_thoughtful: Suggestion' '🌐 Foreign Policy' ':snoo_smile: Satire'\n",
      " '📉 Economy' 'Verified' 'do not brigade other subs' 'NO PAYWALL'\n",
      " ':snoo_smile: Humor' 'Question :snoo_thoughtful:' 'Queue Flooding'\n",
      " ':snoo_feelsgoodman: Creative' ':snoo_feelsgoodman: Request'\n",
      " '📄 Effortpost' 'OpEd' 'WARNING!' 'T O D A Y' '✅ We Voted' ' 📈 Economy'\n",
      " 'Op-Ed' 'off-topic' '📺 Great Video' 'Lawsuit Settlement' 'NO PAYWALL!'\n",
      " 'Humor' 'See Update' ':snoo_feelsgoodman: Veep' '📊 Poll'\n",
      " 'News (Latin America)' 'News (Asia)' 'Opinion article (non-US)'\n",
      " 'User discussion' 'Opinion article (US)' 'Discussion Thread'\n",
      " 'News (Global)' 'News (US)' 'Meme' 'News (Europe)' 'Research Paper'\n",
      " 'News (Canada)' 'Restricted' 'News (Middle East)' 'News (Africa)' 'Media'\n",
      " 'News (What The Fuck)' 'Opinion article (Ukraine)' 'Effortpost'\n",
      " 'News (Oceania)' 'News - translated' 'This but unironically'\n",
      " 'Army -&gt; Navy + Air Force' ':cfnl-organizer: CFNL'\n",
      " 'News (North America)' 'Soft Paywall' 'Paywall'\n",
      " 'Soft Paywall | Site Altered Headline' 'Site Altered Headline' 'Activism'\n",
      " 'Radical History' 'High Quality Only' 'Feminism' 'Anti-Imperialism'\n",
      " 'Political Economy' 'Politics' 'Anti-Racism' 'Syndicalism' 'Anti-Fascism'\n",
      " 'LGTBIQ+' 'Ecologism' 'Th0t bot' 'art 🎨'\n",
      " 'we live in a society BOTTOM TEXT' 'HENTAI 😍' 'memes'\n",
      " 'actual world politics' 'PILLOSOPHY' 'LGBTQ+' '🔥FOR THE EMPEROR 🔥'\n",
      " 'tank porn' 'plants &amp; nature🌱' 'birb 🕊️' '💎car porn👐'\n",
      " '50/50 random stuff' '😇Our lord and saviour sexy jesus christ 2024😍'\n",
      " 'Fucking food 🍆' '🔥FOR THE WAAAAGGGGHHH 🪓' 'petty pet petting 😻'\n",
      " 'AI \"art\"' 'bach to bach hits🎼' 'boat porn'\n",
      " 'this post makes PCISLAME look sane']\n"
     ]
    }
   ],
   "source": [
    "import pandas as pd\n",
    "\n",
    "# Load Data\n",
    "df = pd.read_csv(\"cleaned_reddit_data.csv\")\n",
    "\n",
    "# Get unique values of 'post_hint'\n",
    "unique_post_hints = df[\"link_flair_text\"].dropna().unique()\n",
    "\n",
    "# Print unique values\n",
    "print(len(unique_post_hints))\n",
    "print(unique_post_hints)\n"
   ]
  },
  {
   "cell_type": "code",
   "execution_count": null,
   "metadata": {},
   "outputs": [
    {
     "name": "stdout",
     "output_type": "stream",
     "text": [
      "<class 'pandas.core.frame.DataFrame'>\n",
      "RangeIndex: 8205 entries, 0 to 8204\n",
      "Data columns (total 9 columns):\n",
      " #   Column                  Non-Null Count  Dtype  \n",
      "---  ------                  --------------  -----  \n",
      " 0   link_flair_text         8205 non-null   object \n",
      " 1   thumbnail_width         8205 non-null   float64\n",
      " 2   thumbnail_height        8205 non-null   float64\n",
      " 3   post_hint               8205 non-null   object \n",
      " 4   url_overridden_by_dest  6683 non-null   object \n",
      " 5   over_18                 8205 non-null   bool   \n",
      " 6   author_premium          8205 non-null   bool   \n",
      " 7   author_fullname         8205 non-null   object \n",
      " 8   media_only              8205 non-null   bool   \n",
      "dtypes: bool(3), float64(2), object(4)\n",
      "memory usage: 408.8+ KB\n"
     ]
    }
   ],
   "source": [
    "df.info()"
   ]
  },
  {
   "cell_type": "code",
   "execution_count": 11,
   "metadata": {},
   "outputs": [
    {
     "name": "stdout",
     "output_type": "stream",
     "text": [
      "136\n",
      "['Unknown' 'New User' 'PDF' 'Tonight Jan 31st 6:00 PM EST' 'Meta'\n",
      " 'Privacy: Instagram' 'Genocide' 'Lol' 'Flaired Users Only'\n",
      " 'Satire - Flaired Users Only' 'Open Discussion'\n",
      " 'Misleading Title - Flaired Users Only'\n",
      " ':snoo_feelsgoodman: Discussion :snoo_thoughtful:' ':snoo: Article'\n",
      " ':snoo_putback: Opinion' 'Low Karma' 'Covered by another article'\n",
      " '❌ Multiple user reports' 'US Politics' 'Political History'\n",
      " 'US Elections' 'Legal/Courts' 'International Politics' 'Political Theory'\n",
      " 'European Politics' 'Legislation' 'Non-US Politics' 'Discussion' 'News'\n",
      " 'Breaking News' 'Satire ' 'Fake News' 'Satire' ':snoo: Article '\n",
      " '🌐 World News' ':snoo_joy: Meme' '📷 Pic' '🗳️ Beat Trump'\n",
      " ':snoo_dealwithit: Join r/democrats' '📺 Video'\n",
      " ':snoo_feelsgoodman: Healthcare' 'FOOD DESERTS' '📸 Album'\n",
      " ':pride: LGBTQ+' 'No Paywall' '✅ Accomplishment'\n",
      " ':snoo_thoughtful: Suggestion' '🌐 Foreign Policy' ':snoo_smile: Satire'\n",
      " '📉 Economy' 'Verified' 'do not brigade other subs' 'NO PAYWALL'\n",
      " ':snoo_smile: Humor' 'Question :snoo_thoughtful:' 'Queue Flooding'\n",
      " ':snoo_feelsgoodman: Creative' ':snoo_feelsgoodman: Request'\n",
      " '📄 Effortpost' 'OpEd' 'WARNING!' 'T O D A Y' '✅ We Voted' ' 📈 Economy'\n",
      " 'Op-Ed' 'off-topic' '📺 Great Video' 'Lawsuit Settlement' 'NO PAYWALL!'\n",
      " 'Humor' 'See Update' ':snoo_feelsgoodman: Veep' '📊 Poll'\n",
      " 'News (Latin America)' 'News (Asia)' 'Opinion article (non-US)'\n",
      " 'User discussion' 'Opinion article (US)' 'Discussion Thread'\n",
      " 'News (Global)' 'News (US)' 'Meme' 'News (Europe)' 'Research Paper'\n",
      " 'News (Canada)' 'Restricted' 'News (Middle East)' 'News (Africa)' 'Media'\n",
      " 'News (What The Fuck)' 'Opinion article (Ukraine)' 'Effortpost'\n",
      " 'News (Oceania)' 'News - translated' 'This but unironically'\n",
      " 'Army -&gt; Navy + Air Force' ':cfnl-organizer: CFNL'\n",
      " 'News (North America)' 'Soft Paywall' 'Paywall'\n",
      " 'Soft Paywall | Site Altered Headline' 'Site Altered Headline' 'Activism'\n",
      " 'Radical History' 'High Quality Only' 'Feminism' 'Anti-Imperialism'\n",
      " 'Political Economy' 'Politics' 'Anti-Racism' 'Syndicalism' 'Anti-Fascism'\n",
      " 'LGTBIQ+' 'Ecologism' 'Th0t bot' 'art 🎨'\n",
      " 'we live in a society BOTTOM TEXT' 'HENTAI 😍' 'memes'\n",
      " 'actual world politics' 'PILLOSOPHY' 'LGBTQ+' '🔥FOR THE EMPEROR 🔥'\n",
      " 'tank porn' 'plants &amp; nature🌱' 'birb 🕊️' '💎car porn👐'\n",
      " '50/50 random stuff' '😇Our lord and saviour sexy jesus christ 2024😍'\n",
      " 'Fucking food 🍆' '🔥FOR THE WAAAAGGGGHHH 🪓' 'petty pet petting 😻'\n",
      " 'AI \"art\"' 'bach to bach hits🎼' 'boat porn'\n",
      " 'this post makes PCISLAME look sane']\n"
     ]
    }
   ],
   "source": [
    "import pandas as pd\n",
    "\n",
    "# Load Data\n",
    "df = pd.read_csv(\"cleaned_reddit_data.csv\")\n",
    "\n",
    "# Filter rows where both thumbnail_height and thumbnail_width are not null\n",
    "filtered_df = df.dropna(subset=[\"thumbnail_height\", \"thumbnail_width\"])\n",
    "\n",
    "# Get unique values of 'link_flair_text' in the filtered data\n",
    "unique_post_hints = filtered_df[\"link_flair_text\"].dropna().unique()\n",
    "\n",
    "# Print unique values\n",
    "print(len(unique_post_hints))\n",
    "print(unique_post_hints)\n"
   ]
  },
  {
   "cell_type": "code",
   "execution_count": null,
   "metadata": {},
   "outputs": [],
   "source": []
  }
 ],
 "metadata": {
  "kernelspec": {
   "display_name": "Python 3",
   "language": "python",
   "name": "python3"
  },
  "language_info": {
   "codemirror_mode": {
    "name": "ipython",
    "version": 3
   },
   "file_extension": ".py",
   "mimetype": "text/x-python",
   "name": "python",
   "nbconvert_exporter": "python",
   "pygments_lexer": "ipython3",
   "version": "3.11.2"
  }
 },
 "nbformat": 4,
 "nbformat_minor": 2
}
